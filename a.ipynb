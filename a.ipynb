{
 "cells": [
  {
   "cell_type": "code",
   "execution_count": null,
   "id": "initial_id",
   "metadata": {
    "ExecuteTime": {
     "end_time": "2023-12-27T14:26:57.052172Z",
     "start_time": "2023-12-27T14:26:57.037165Z"
    },
    "collapsed": true
   },
   "outputs": [],
   "source": []
  },
  {
   "cell_type": "code",
   "execution_count": null,
   "id": "a54a148b",
   "metadata": {},
   "outputs": [],
   "source": [
    "\n"
   ]
  },
  {
   "cell_type": "code",
   "execution_count": null,
   "id": "de1989173afa9737",
   "metadata": {
    "collapsed": false
   },
   "outputs": [],
   "source": [
    "import talib\n",
    "import numpy as np\n",
    "import pandas as pd\n",
    "import matplotlib.pyplot as plt\n",
    "\n",
    "# Generate example OHLC data\n",
    "# Replace this with your actual OHLC data\n",
    "np.random.seed(42)\n",
    "ohlc_data = pd.DataFrame({\n",
    "    'open': np.random.rand(100),\n",
    "    'high': np.random.rand(100) + 0.5,\n",
    "    'low': np.random.rand(100) - 0.5,\n",
    "    'close': np.random.rand(100),\n",
    "})\n",
    "\n",
    "# Parameters\n",
    "prd = 20\n",
    "resp = 7\n",
    "bull = True\n",
    "bear = True\n",
    "showPD = True\n",
    "don = False\n",
    "Candle = True\n",
    "length = 30\n",
    "\n",
    "# Pivots\n",
    "pvtHi = talib.MAX(ohlc_data['high'], timeperiod=prd)\n",
    "pvtLo = talib.MIN(ohlc_data['low'], timeperiod=prd)\n",
    "\n",
    "# Structure\n",
    "Up = talib.MAX(pvtHi, timeperiod=resp) if bull else pd.Series(np.nan, index=ohlc_data.index)\n",
    "Dn = talib.MIN(pvtLo, timeperiod=resp) if bear else pd.Series(np.nan, index=ohlc_data.index)\n",
    "\n",
    "# Premium & Discount\n",
    "PremiumTop = Up - (Up - Dn) * 0.1\n",
    "PremiumBot = Up - (Up - Dn) * 0.25\n",
    "DiscountTop = Dn + (Up - Dn) * 0.25\n",
    "DiscountBot = Dn + (Up - Dn) * 0.1\n",
    "MidTop = Up - (Up - Dn) * 0.45\n",
    "MidBot = Dn + (Up - Dn) * 0.45\n",
    "\n",
    "# Plots\n",
    "plt.plot(ohlc_data.index, Up, label='Up')\n",
    "plt.plot(ohlc_data.index, Dn, label='Dn')\n",
    "plt.plot(ohlc_data.index, PremiumTop, label='PremiumTop')\n",
    "plt.plot(ohlc_data.index, PremiumBot, label='PremiumBot')\n",
    "plt.plot(ohlc_data.index, DiscountTop, label='DiscountTop')\n",
    "plt.plot(ohlc_data.index, DiscountBot, label='DiscountBot')\n",
    "plt.plot(ohlc_data.index, MidTop, label='MidTop')\n",
    "plt.plot(ohlc_data.index, MidBot, label='MidBot')\n",
    "\n",
    "# Plot Structure Candles\n",
    "if Candle:\n",
    "    candle_color = np.where(ohlc_data['close'] > ohlc_data['open'], 'green', 'red')\n",
    "    plt.bar(ohlc_data.index, ohlc_data['close'] - ohlc_data['open'], color=candle_color, bottom=ohlc_data['open'])\n",
    "\n",
    "plt.legend()\n",
    "plt.show()\n"
   ]
  }
 ],
 "metadata": {
  "kernelspec": {
   "display_name": "Python 3",
   "language": "python",
   "name": "python3"
  },
  "language_info": {
   "codemirror_mode": {
    "name": "ipython",
    "version": 3
   },
   "file_extension": ".py",
   "mimetype": "text/x-python",
   "name": "python",
   "nbconvert_exporter": "python",
   "pygments_lexer": "ipython3",
   "version": "3.10.13"
  }
 },
 "nbformat": 4,
 "nbformat_minor": 5
}
